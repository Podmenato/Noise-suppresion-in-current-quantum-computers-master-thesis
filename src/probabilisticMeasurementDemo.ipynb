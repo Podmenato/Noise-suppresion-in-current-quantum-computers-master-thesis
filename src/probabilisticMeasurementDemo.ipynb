{
 "cells": [
  {
   "cell_type": "code",
   "execution_count": 1,
   "outputs": [],
   "source": [
    "import numpy as np\n",
    "from ProbabilisticMeasurement import ProbabilisticMeasurement\n",
    "import qiskit\n",
    "from qiskit import *"
   ],
   "metadata": {
    "collapsed": false,
    "pycharm": {
     "name": "#%%\n"
    }
   }
  },
  {
   "cell_type": "code",
   "execution_count": 4,
   "outputs": [
    {
     "data": {
      "text/plain": "<Figure size 432x288 with 1 Axes>",
      "image/png": "[encoded data removed]"
     },
     "metadata": {
      "needs_background": "light"
     },
     "output_type": "display_data"
    }
   ],
   "source": [
    "povm_basic = [\n",
    "    np.array([[1/2, 1/2],\n",
    "              [1/2, 1/2]]),\n",
    "    np.array([[1/2, -1/2],\n",
    "              [-1/2, 1/2]]),\n",
    "    np.array([[1/2, 0+(-1j/2)],\n",
    "              [0+(1j/2), 1/2]]),\n",
    "    np.array([[1/2, 0+(1j/2)],\n",
    "              [0+(-1j/2), 1/2]]),\n",
    "    np.array([[1, 0],\n",
    "              [0, 0]]),\n",
    "    np.array([[0, 0],\n",
    "              [0, 1]])\n",
    "]\n",
    "\n",
    "qasm = qiskit.Aer.get_backend(\"qasm_simulator\")\n",
    "\n",
    "effects = [0, 1, 2, 3]\n",
    "n = len(effects)\n",
    "povm_effects = [2 * povm_basic[j] / n for j in effects]\n",
    "\n",
    "# Initialize the object using POVM effects and assign labels to them\n",
    "prob = ProbabilisticMeasurement(povm_effects, [\"x+\", \"x-\", \"y+\", \"y-\"])\n",
    "\n",
    "# Prepare measured state\n",
    "state = QuantumCircuit(1, 1)\n",
    "state.h(0)\n",
    "\n",
    "results = prob.measure(state)\n",
    "\n",
    "prob.plot_histogram(results)"
   ],
   "metadata": {
    "collapsed": false,
    "pycharm": {
     "name": "#%%\n"
    }
   }
  },
  {
   "cell_type": "code",
   "execution_count": 2,
   "outputs": [],
   "source": [],
   "metadata": {
    "collapsed": false,
    "pycharm": {
     "name": "#%%\n"
    }
   }
  }
 ],
 "metadata": {
  "kernelspec": {
   "display_name": "Python 3",
   "language": "python",
   "name": "python3"
  },
  "language_info": {
   "codemirror_mode": {
    "name": "ipython",
    "version": 2
   },
   "file_extension": ".py",
   "mimetype": "text/x-python",
   "name": "python",
   "nbconvert_exporter": "python",
   "pygments_lexer": "ipython2",
   "version": "2.7.6"
  }
 },
 "nbformat": 4,
 "nbformat_minor": 0
}