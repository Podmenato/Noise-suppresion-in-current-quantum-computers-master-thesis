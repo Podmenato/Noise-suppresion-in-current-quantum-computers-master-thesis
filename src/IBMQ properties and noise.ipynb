{
 "cells": [
  {
   "cell_type": "markdown",
   "id": "7b3d8c0d",
   "metadata": {
    "pycharm": {
     "name": "#%% md\n"
    }
   },
   "source": [
    "# Scaling noiso on IBMQ devices"
   ]
  },
  {
   "cell_type": "code",
   "execution_count": 1,
   "id": "e44d5200",
   "metadata": {
    "ExecuteTime": {
     "end_time": "2022-03-30T13:30:27.105642Z",
     "start_time": "2022-03-30T13:30:26.412075Z"
    },
    "pycharm": {
     "name": "#%%\n"
    }
   },
   "outputs": [],
   "source": [
    "from qiskit import IBMQ\n",
    "from qiskit.providers.aer import AerSimulator\n",
    "from qiskit.providers.aer.noise.noise_model import NoiseModel\n",
    "from qiskit.providers.aer.noise import ReadoutError\n",
    "import numpy as np\n",
    "from utilities import scale_noise, vd"
   ]
  },
  {
   "cell_type": "code",
   "execution_count": 2,
   "id": "762ec67a",
   "metadata": {
    "ExecuteTime": {
     "end_time": "2022-03-30T13:30:32.177428Z",
     "start_time": "2022-03-30T13:30:27.403572Z"
    },
    "pycharm": {
     "name": "#%%\n"
    }
   },
   "outputs": [
    {
     "data": {
      "text/plain": "<AccountProvider for IBMQ(hub='ibm-q', group='open', project='main')>"
     },
     "execution_count": 2,
     "metadata": {},
     "output_type": "execute_result"
    }
   ],
   "source": [
    "IBMQ.load_account()"
   ]
  },
  {
   "cell_type": "code",
   "execution_count": 3,
   "id": "eca76ace",
   "metadata": {
    "ExecuteTime": {
     "end_time": "2022-03-30T13:30:33.170788Z",
     "start_time": "2022-03-30T13:30:32.226774Z"
    },
    "pycharm": {
     "name": "#%%\n"
    }
   },
   "outputs": [
    {
     "name": "stderr",
     "output_type": "stream",
     "text": [
      "ibmqfactory.load_account:WARNING:2022-04-22 06:22:05,249: Credentials are already in use. The existing account in the session will be replaced.\n"
     ]
    }
   ],
   "source": [
    "IBMQ.load_account()\n",
    "# Device to be simulated\n",
    "dev = IBMQ.get_provider().get_backend(\"ibmq_manila\")\n",
    "\n",
    "# Extracted simulator for the device\n",
    "sim = AerSimulator.from_backend(dev)\n",
    "\n",
    "# noise model of the simulator\n",
    "noise_model = NoiseModel().from_backend(dev)"
   ]
  },
  {
   "cell_type": "markdown",
   "id": "f1f02932",
   "metadata": {
    "pycharm": {
     "name": "#%% md\n"
    }
   },
   "source": [
    "## Scaling the noise"
   ]
  },
  {
   "cell_type": "code",
   "execution_count": 4,
   "id": "3ad3939f",
   "metadata": {
    "ExecuteTime": {
     "end_time": "2022-03-30T13:30:36.364600Z",
     "start_time": "2022-03-30T13:30:36.347683Z"
    },
    "pycharm": {
     "name": "#%%\n"
    }
   },
   "outputs": [],
   "source": [
    "# ## Scales the noise model.\n",
    "# ##  - qscale is the common scale parameter for the quantum errors\n",
    "# ##  - roscale is the common parameter for the readout errrors; if not\n",
    "# ##    provided, the value of qscale is used\n",
    "# ## The scale parameters should be from interval [0, 1]\n",
    "# ## with 0 for ideal device and 1 for simulated device\n",
    "# def scale_noise(noise_model, qscale, roscale=None):\n",
    "#     if roscale is None:\n",
    "#         roscale = qscale\n",
    "#\n",
    "#     ## Scaled version of the noise_model\n",
    "#     scaled = NoiseModel(basis_gates=noise_model.basis_gates)\n",
    "#\n",
    "#     ## Quantum errors are stored in _local_quantum_errors attribute\n",
    "#     ## dictionary; _local_quantum_errors[operation][qubits] stores\n",
    "#     ## the Qiskit QuantumError in which probabilities are stored\n",
    "#     ## in _probs attribute\n",
    "#     qerrors = noise_model._local_quantum_errors\n",
    "#     for op in qerrors:\n",
    "#         for qubits in qerrors[op]:\n",
    "#             ## Copy the error\n",
    "#             newerror = qerrors[op][qubits].copy()\n",
    "#\n",
    "#             ## Scale the probabilities\n",
    "#             probs = qscale * np.array(newerror.probabilities)\n",
    "#             probs[0] += 1 - qscale\n",
    "#             newerror._probs = probs\n",
    "#\n",
    "#             ## Add error to the scaled noise model\n",
    "#             scaled.add_quantum_error(newerror, op, qubits)\n",
    "#\n",
    "#     ## Readout errors are stored in _local_readout_errors attribute\n",
    "#     ## dictionary; _local_readout_errors[qubits] stores the Qiskit\n",
    "#     ## ReadoutError; we could change the probabilities as in the previous\n",
    "#     ## case, but here it is simpler to construct completely\n",
    "#     ## new ReadoutError\n",
    "#     roerrors = noise_model._local_readout_errors\n",
    "#     for qubits in roerrors:\n",
    "#         ## Reading probabilities\n",
    "#         probs = roerrors[qubits].probabilities\n",
    "#\n",
    "#         ## Scale the probabilites\n",
    "#         error0 = roscale * probs[0][1]\n",
    "#         error1 = roscale * probs[1][0]\n",
    "#\n",
    "#         ## Construction and addition of the error to the scaled noise model\n",
    "#         newerror = ReadoutError(np.array([[1 - error0, error0], [error1, 1 - error1]]))\n",
    "#         scaled.add_readout_error(newerror, qubits)\n",
    "#\n",
    "#     return scaled"
   ]
  },
  {
   "cell_type": "code",
   "execution_count": 5,
   "id": "561f651e",
   "metadata": {
    "ExecuteTime": {
     "end_time": "2022-03-30T13:30:38.847087Z",
     "start_time": "2022-03-30T13:30:37.162918Z"
    },
    "pycharm": {
     "name": "#%%\n"
    }
   },
   "outputs": [
    {
     "data": {
      "text/plain": "True"
     },
     "execution_count": 5,
     "metadata": {},
     "output_type": "execute_result"
    }
   ],
   "source": [
    "scale_noise(noise_model, 1) == noise_model"
   ]
  },
  {
   "cell_type": "code",
   "execution_count": 6,
   "id": "53c1becd",
   "metadata": {
    "ExecuteTime": {
     "end_time": "2022-03-30T13:30:39.079596Z",
     "start_time": "2022-03-30T13:30:38.895051Z"
    },
    "pycharm": {
     "name": "#%%\n"
    }
   },
   "outputs": [
    {
     "data": {
      "text/plain": "False"
     },
     "execution_count": 6,
     "metadata": {},
     "output_type": "execute_result"
    }
   ],
   "source": [
    "scale_noise(noise_model, 0.5, 0.8) == noise_model"
   ]
  },
  {
   "cell_type": "markdown",
   "id": "52adac44",
   "metadata": {
    "pycharm": {
     "name": "#%% md\n"
    }
   },
   "source": [
    "## Test"
   ]
  },
  {
   "cell_type": "code",
   "execution_count": 7,
   "id": "0b096283",
   "metadata": {
    "ExecuteTime": {
     "end_time": "2022-03-30T13:30:41.493914Z",
     "start_time": "2022-03-30T13:30:40.787714Z"
    },
    "pycharm": {
     "name": "#%%\n"
    }
   },
   "outputs": [],
   "source": [
    "import qiskit\n",
    "from qiskit.visualization import plot_histogram\n",
    "import matplotlib.pyplot as plt"
   ]
  },
  {
   "cell_type": "code",
   "execution_count": 8,
   "id": "bfe17085",
   "metadata": {
    "ExecuteTime": {
     "end_time": "2022-03-30T13:30:41.555764Z",
     "start_time": "2022-03-30T13:30:41.542263Z"
    },
    "pycharm": {
     "name": "#%%\n"
    }
   },
   "outputs": [],
   "source": [
    "SHOTS = 10000\n",
    "n_qubits = 4\n",
    "OUTCOMES = [f\"{j:04b}\" for j in range(16)]"
   ]
  },
  {
   "cell_type": "code",
   "execution_count": 9,
   "id": "8d3324ed",
   "metadata": {
    "ExecuteTime": {
     "end_time": "2022-03-30T13:30:42.565055Z",
     "start_time": "2022-03-30T13:30:42.139454Z"
    },
    "pycharm": {
     "name": "#%%\n"
    }
   },
   "outputs": [
    {
     "data": {
      "text/plain": "<Figure size 658.679x325.08 with 1 Axes>",
      "image/png": "[encoded data removed]"
     },
     "execution_count": 9,
     "metadata": {},
     "output_type": "execute_result"
    }
   ],
   "source": [
    "# System Specification\n",
    "circ = qiskit.QuantumCircuit(n_qubits)\n",
    "\n",
    "# Test Circuit\n",
    "circ.h(0)\n",
    "for qubit in range(n_qubits - 1):\n",
    "    circ.cx(qubit, qubit + 1)\n",
    "circ.measure_all()\n",
    "circ.draw(output=\"mpl\")"
   ]
  },
  {
   "cell_type": "code",
   "execution_count": 10,
   "id": "da9eec35",
   "metadata": {
    "ExecuteTime": {
     "end_time": "2022-03-30T13:30:46.249701Z",
     "start_time": "2022-03-30T13:30:44.435881Z"
    },
    "pycharm": {
     "name": "#%%\n"
    }
   },
   "outputs": [
    {
     "data": {
      "text/plain": "<Figure size 841.24x385.28 with 1 Axes>",
      "image/png": "[encoded data removed]"
     },
     "execution_count": 10,
     "metadata": {},
     "output_type": "execute_result"
    }
   ],
   "source": [
    "circ = qiskit.transpile(circ, dev)\n",
    "circ.draw(output=\"mpl\")"
   ]
  },
  {
   "cell_type": "code",
   "execution_count": 11,
   "id": "f46aeb49",
   "metadata": {
    "ExecuteTime": {
     "end_time": "2022-03-30T13:31:31.972929Z",
     "start_time": "2022-03-30T13:31:31.955117Z"
    },
    "pycharm": {
     "name": "#%%\n"
    }
   },
   "outputs": [],
   "source": [
    "def simulate(circ, qscale, roscale=None):\n",
    "    # Create noisy simulator backend\n",
    "    noise_model = scale_noise(NoiseModel().from_backend(dev), qscale, roscale)\n",
    "    sim_noise = AerSimulator(noise_model=noise_model)\n",
    "\n",
    "    # Run and get counts\n",
    "    result = sim_noise.run(circ, shots=SHOTS).result()\n",
    "\n",
    "    return result.get_counts()"
   ]
  },
  {
   "cell_type": "code",
   "execution_count": 12,
   "id": "56462302",
   "metadata": {
    "ExecuteTime": {
     "end_time": "2022-03-30T13:35:43.019077Z",
     "start_time": "2022-03-30T13:35:27.379272Z"
    },
    "pycharm": {
     "name": "#%%\n"
    }
   },
   "outputs": [],
   "source": [
    "scales = np.linspace(0, 1, 15)\n",
    "both = [simulate(circ, qscale) for qscale in scales]\n",
    "qerrors = [simulate(circ, qscale, roscale=0.) for qscale in scales]\n",
    "roerrors = [simulate(circ, 0., roscale) for roscale in scales]"
   ]
  },
  {
   "cell_type": "code",
   "execution_count": null,
   "id": "cc43c7c0",
   "metadata": {
    "ExecuteTime": {
     "end_time": "2022-03-30T13:34:28.517194Z",
     "start_time": "2022-03-30T13:33:39.155191Z"
    },
    "pycharm": {
     "name": "#%%\n",
     "is_executing": true
    }
   },
   "outputs": [],
   "source": [
    "job = qiskit.execute(circ, dev, shots=SHOTS)\n",
    "real = job.result().get_counts()"
   ]
  },
  {
   "cell_type": "code",
   "execution_count": null,
   "id": "8c8fff3a",
   "metadata": {
    "ExecuteTime": {
     "end_time": "2022-03-30T13:35:43.080810Z",
     "start_time": "2022-03-30T13:35:43.066516Z"
    },
    "pycharm": {
     "name": "#%%\n",
     "is_executing": true
    }
   },
   "outputs": [],
   "source": [
    "d_both = [vd(dist, both[0]) for dist in both]\n",
    "d_qerrors = [vd(dist, qerrors[0]) for dist in qerrors]\n",
    "d_roerrors = [vd(dist, roerrors[0]) for dist in roerrors]"
   ]
  },
  {
   "cell_type": "code",
   "execution_count": 16,
   "id": "f1037eff",
   "metadata": {
    "ExecuteTime": {
     "end_time": "2022-03-30T13:35:43.344566Z",
     "start_time": "2022-03-30T13:35:43.145848Z"
    },
    "pycharm": {
     "name": "#%%\n"
    }
   },
   "outputs": [
    {
     "data": {
      "text/plain": "<Figure size 648x360 with 1 Axes>",
      "image/png": "[encoded data removed]"
     },
     "metadata": {
      "needs_background": "light"
     },
     "output_type": "display_data"
    }
   ],
   "source": [
    "## Figure initialization\n",
    "fig, ax = plt.subplots(1, 1, figsize=(9, 5))\n",
    "ax.grid(True)\n",
    "ax.set_title(\"Total variation distance between ideal and noisy evolution\")\n",
    "ax.set_ylabel(\"TVD\")\n",
    "ax.set_xlabel(\"noise rate\")\n",
    "\n",
    "ax.plot(scales, d_both, \"-or\", label=\"Both errors\")\n",
    "ax.plot(scales, d_qerrors, \"-og\", label=\"Gate errors\")\n",
    "ax.plot(scales, d_roerrors, \"-ob\", label=\"Measurement errors\")\n",
    "ax.legend()\n",
    "\n",
    "plt.show()"
   ]
  },
  {
   "cell_type": "code",
   "execution_count": 17,
   "id": "bc539e73",
   "metadata": {
    "ExecuteTime": {
     "end_time": "2022-03-30T13:35:43.641172Z",
     "start_time": "2022-03-30T13:35:43.395459Z"
    },
    "pycharm": {
     "name": "#%%\n"
    }
   },
   "outputs": [
    {
     "data": {
      "text/plain": "<Figure size 648x360 with 1 Axes>",
      "image/png": "[encoded data removed]"
     },
     "metadata": {
      "needs_background": "light"
     },
     "output_type": "display_data"
    }
   ],
   "source": [
    "## Figure initialization\n",
    "fig, ax = plt.subplots(1, 1, figsize=(9, 5))\n",
    "ax.grid(True)\n",
    "\n",
    "xrange = np.linspace(0, 15, 16)\n",
    "# ax.set_title(\"Time evolution of measuring 0s and 1s success rates.\")\n",
    "# ax.set_ylabel(\"Success probability\")\n",
    "\n",
    "width = 0.8 / 4\n",
    "\n",
    "ax.bar(xrange - 3 * width / 2., [both[0].get(x, 0) / SHOTS for x in OUTCOMES], width=width, label=\"0% error\")\n",
    "ax.bar(xrange - width / 2., [both[7].get(x, 0) / SHOTS for x in OUTCOMES], width=width, label=\"50% error\")\n",
    "ax.bar(xrange + width / 2., [both[14].get(x, 0) / SHOTS for x in OUTCOMES], width=width, label=\"100% error\")\n",
    "ax.bar(xrange + 3 * width / 2., [real.get(x, 0) / SHOTS for x in OUTCOMES], width=width, label=\"100% error\")\n",
    "\n",
    "plt.xticks(xrange, OUTCOMES)\n",
    "ax.legend()\n",
    "\n",
    "plt.show()"
   ]
  },
  {
   "cell_type": "code",
   "execution_count": null,
   "id": "b0d52de6",
   "metadata": {
    "pycharm": {
     "name": "#%%\n"
    }
   },
   "outputs": [],
   "source": []
  }
 ],
 "metadata": {
  "hide_input": false,
  "kernelspec": {
   "display_name": "Python 3 (ipykernel)",
   "language": "python",
   "name": "python3"
  },
  "language_info": {
   "codemirror_mode": {
    "name": "ipython",
    "version": 3
   },
   "file_extension": ".py",
   "mimetype": "text/x-python",
   "name": "python",
   "nbconvert_exporter": "python",
   "pygments_lexer": "ipython3",
   "version": "3.8.12"
  },
  "varInspector": {
   "cols": {
    "lenName": 16,
    "lenType": 16,
    "lenVar": 40
   },
   "kernels_config": {
    "python": {
     "delete_cmd_postfix": "",
     "delete_cmd_prefix": "del ",
     "library": "var_list.py",
     "varRefreshCmd": "print(var_dic_list())"
    },
    "r": {
     "delete_cmd_postfix": ") ",
     "delete_cmd_prefix": "rm(",
     "library": "var_list.r",
     "varRefreshCmd": "cat(var_dic_list()) "
    }
   },
   "types_to_exclude": [
    "module",
    "function",
    "builtin_function_or_method",
    "instance",
    "_Feature"
   ],
   "window_display": false
  }
 },
 "nbformat": 4,
 "nbformat_minor": 5
}